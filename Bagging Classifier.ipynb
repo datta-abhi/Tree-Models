{
 "cells": [
  {
   "cell_type": "code",
   "execution_count": 1,
   "id": "30f99996",
   "metadata": {},
   "outputs": [],
   "source": [
    "import numpy as np\n",
    "import pandas as pd\n",
    "import matplotlib.pyplot as plt\n",
    "import seaborn as sns"
   ]
  },
  {
   "cell_type": "markdown",
   "id": "dfff36e3",
   "metadata": {},
   "source": [
    "## Creating a dummy dataset"
   ]
  },
  {
   "cell_type": "code",
   "execution_count": 2,
   "id": "ba38a318",
   "metadata": {},
   "outputs": [],
   "source": [
    "from sklearn.datasets import make_classification\n",
    "\n",
    "X,y = make_classification(n_samples=9999,n_features = 10, n_informative = 5)\n",
    "\n",
    "from sklearn.model_selection import train_test_split\n",
    "\n",
    "X_train,X_test,y_train,y_test = train_test_split(X,y,test_size=0.3,random_state=28)"
   ]
  },
  {
   "cell_type": "code",
   "execution_count": 3,
   "id": "8b33435d",
   "metadata": {},
   "outputs": [
    {
     "name": "stdout",
     "output_type": "stream",
     "text": [
      "(6999, 10)\n",
      "(3000, 10)\n",
      "\n",
      "(6999,)\n",
      "(3000,)\n"
     ]
    }
   ],
   "source": [
    "print(X_train.shape)\n",
    "print(X_test.shape)\n",
    "print()\n",
    "print(y_train.shape)\n",
    "print(y_test.shape)"
   ]
  },
  {
   "cell_type": "markdown",
   "id": "c3fde390",
   "metadata": {},
   "source": [
    "# Creating StandAlone Models and Checking their accuracy"
   ]
  },
  {
   "cell_type": "markdown",
   "id": "4be40a1f",
   "metadata": {},
   "source": [
    "## Decision Tree Base Model"
   ]
  },
  {
   "cell_type": "code",
   "execution_count": 4,
   "id": "c1e15e36",
   "metadata": {},
   "outputs": [
    {
     "name": "stdout",
     "output_type": "stream",
     "text": [
      "Accuracy of Decision Tree:  0.8077\n"
     ]
    }
   ],
   "source": [
    "from sklearn.tree import DecisionTreeClassifier\n",
    "from sklearn.metrics import accuracy_score\n",
    "\n",
    "clf = DecisionTreeClassifier(max_depth=4,random_state=28)\n",
    "clf.fit(X_train,y_train)\n",
    "y_pred = clf.predict(X_test)\n",
    "\n",
    "print(\"Accuracy of Decision Tree: \",np.round(accuracy_score(y_test,y_pred),4))"
   ]
  },
  {
   "cell_type": "markdown",
   "id": "fe004084",
   "metadata": {},
   "source": [
    "## Bagging Classifier : Row sampling with replacement"
   ]
  },
  {
   "cell_type": "code",
   "execution_count": 5,
   "id": "59a919aa",
   "metadata": {},
   "outputs": [
    {
     "name": "stdout",
     "output_type": "stream",
     "text": [
      "Accuracy of Bagging:  0.8147\n",
      "Nos of samples used per base:  (2099,)\n",
      "Nos of fetaures used:  (10,)\n"
     ]
    }
   ],
   "source": [
    "from sklearn.ensemble import BaggingClassifier\n",
    "\n",
    "clf_bagging = BaggingClassifier(estimator= DecisionTreeClassifier(random_state=28,max_depth=4),\n",
    "                               n_estimators = 250,\n",
    "                               max_samples = 0.3,\n",
    "                               bootstrap=True,\n",
    "                                random_state=28,\n",
    "                               n_jobs = -1)\n",
    "\n",
    "clf_bagging.fit(X_train,y_train)\n",
    "\n",
    "y_pred = clf_bagging.predict(X_test)\n",
    "print(\"Accuracy of Bagging: \",np.round(accuracy_score(y_test,y_pred),4))\n",
    "print(\"Nos of samples used per base: \",clf_bagging.estimators_samples_[0].shape)\n",
    "print(\"Nos of fetaures used: \",clf_bagging.estimators_features_[0].shape)"
   ]
  },
  {
   "cell_type": "code",
   "execution_count": 6,
   "id": "c390275a",
   "metadata": {},
   "outputs": [
    {
     "data": {
      "text/plain": [
       "array([0, 1, 2, 3, 4, 5, 6, 7, 8, 9])"
      ]
     },
     "execution_count": 6,
     "metadata": {},
     "output_type": "execute_result"
    }
   ],
   "source": [
    "clf_bagging.estimators_features_[0]"
   ]
  },
  {
   "cell_type": "markdown",
   "id": "a906775a",
   "metadata": {},
   "source": [
    "## Bagging Classifier: Pasting (bootstarp wo replacement)"
   ]
  },
  {
   "cell_type": "code",
   "execution_count": 7,
   "id": "deaa898e",
   "metadata": {},
   "outputs": [
    {
     "name": "stdout",
     "output_type": "stream",
     "text": [
      "Accuracy of Bagging:  0.8133\n",
      "Nos of samples used per base:  (2099,)\n",
      "Nos of fetaures used:  (10,)\n"
     ]
    }
   ],
   "source": [
    "from sklearn.ensemble import BaggingClassifier\n",
    "\n",
    "clf_bagging = BaggingClassifier(estimator= DecisionTreeClassifier(random_state=28,max_depth=4),\n",
    "                               n_estimators = 250,\n",
    "                               max_samples = 0.3,\n",
    "                               bootstrap=False,\n",
    "                                random_state=28,\n",
    "                               n_jobs = -1)\n",
    "\n",
    "clf_bagging.fit(X_train,y_train)\n",
    "\n",
    "y_pred = clf_bagging.predict(X_test)\n",
    "print(\"Accuracy of Bagging: \",np.round(accuracy_score(y_test,y_pred),4))\n",
    "print(\"Nos of samples used per base: \",clf_bagging.estimators_samples_[0].shape)\n",
    "print(\"Nos of fetaures used: \",clf_bagging.estimators_features_[0].shape)"
   ]
  },
  {
   "cell_type": "markdown",
   "id": "392a026a",
   "metadata": {},
   "source": [
    "## Random Subspaces: Column sampling but not row sampling"
   ]
  },
  {
   "cell_type": "code",
   "execution_count": 8,
   "id": "cb771c1c",
   "metadata": {},
   "outputs": [
    {
     "name": "stdout",
     "output_type": "stream",
     "text": [
      "Accuracy of Bagging:  0.8193\n",
      "Nos of samples used per base:  (6999,)\n",
      "Nos of fetaures used:  (5,)\n"
     ]
    }
   ],
   "source": [
    "from sklearn.ensemble import BaggingClassifier\n",
    "\n",
    "clf_bagging = BaggingClassifier(estimator= DecisionTreeClassifier(random_state=28,max_depth=4),\n",
    "                               n_estimators = 250,\n",
    "                               max_samples = 1.0,\n",
    "                               bootstrap=False,\n",
    "                                max_features=0.5,\n",
    "                                random_state=28,\n",
    "                               n_jobs = -1)\n",
    "\n",
    "clf_bagging.fit(X_train,y_train)\n",
    "\n",
    "y_pred = clf_bagging.predict(X_test)\n",
    "print(\"Accuracy of Bagging: \",np.round(accuracy_score(y_test,y_pred),4))\n",
    "print(\"Nos of samples used per base: \",clf_bagging.estimators_samples_[0].shape)\n",
    "print(\"Nos of fetaures used: \",clf_bagging.estimators_features_[0].shape)"
   ]
  },
  {
   "cell_type": "markdown",
   "id": "fafd5845",
   "metadata": {},
   "source": [
    "## Random patches: Both Row and Column Sampling"
   ]
  },
  {
   "cell_type": "code",
   "execution_count": 9,
   "id": "90e36475",
   "metadata": {},
   "outputs": [
    {
     "name": "stdout",
     "output_type": "stream",
     "text": [
      "Accuracy of Bagging:  0.8217\n",
      "Nos of samples used per base:  (2099,)\n",
      "Nos of fetaures used:  (5,)\n"
     ]
    }
   ],
   "source": [
    "from sklearn.ensemble import BaggingClassifier\n",
    "\n",
    "clf_bagging = BaggingClassifier(estimator= DecisionTreeClassifier(random_state=28,max_depth=4),\n",
    "                               n_estimators = 250,\n",
    "                               max_samples = 0.3,\n",
    "                               bootstrap=False,\n",
    "                                 max_features=0.5,\n",
    "                                random_state=28,\n",
    "                               n_jobs = -1)\n",
    "\n",
    "clf_bagging.fit(X_train,y_train)\n",
    "\n",
    "y_pred = clf_bagging.predict(X_test)\n",
    "print(\"Accuracy of Bagging: \",np.round(accuracy_score(y_test,y_pred),4))\n",
    "print(\"Nos of samples used per base: \",clf_bagging.estimators_samples_[0].shape)\n",
    "print(\"Nos of fetaures used: \",clf_bagging.estimators_features_[0].shape)"
   ]
  },
  {
   "cell_type": "markdown",
   "id": "03f60ff7",
   "metadata": {},
   "source": [
    "Both row and Column sampling gives best results when dealing with high dimensional data.  \n",
    "Row sampling between 25-50% gives best results.  \n",
    "Column Sampling between 0.4 to 0.7\n"
   ]
  },
  {
   "cell_type": "markdown",
   "id": "e87df0f2",
   "metadata": {},
   "source": [
    "## OOB Score"
   ]
  },
  {
   "cell_type": "code",
   "execution_count": 10,
   "id": "7b33863d",
   "metadata": {},
   "outputs": [
    {
     "name": "stdout",
     "output_type": "stream",
     "text": [
      "Accuracy of Bagging:  0.819\n",
      "Nos of samples used per base:  (2099,)\n",
      "Nos of fetaures used:  (5,)\n",
      "OOB Accuracy:  0.821\n"
     ]
    }
   ],
   "source": [
    "from sklearn.ensemble import BaggingClassifier\n",
    "\n",
    "clf_bagging = BaggingClassifier(estimator= DecisionTreeClassifier(random_state=28,max_depth=4),\n",
    "                               n_estimators = 250,\n",
    "                               max_samples = 0.3,\n",
    "                               bootstrap=True,\n",
    "                                 max_features=0.5,\n",
    "                                random_state=28,\n",
    "                                oob_score= True,\n",
    "                               n_jobs = -1)\n",
    "\n",
    "clf_bagging.fit(X_train,y_train)\n",
    "\n",
    "y_pred = clf_bagging.predict(X_test)\n",
    "print(\"Accuracy of Bagging: \",np.round(accuracy_score(y_test,y_pred),4))\n",
    "print(\"Nos of samples used per base: \",clf_bagging.estimators_samples_[0].shape)\n",
    "print(\"Nos of fetaures used: \",clf_bagging.estimators_features_[0].shape)\n",
    "print(\"OOB Accuracy: \",np.round(clf_bagging.oob_score_,4))"
   ]
  },
  {
   "cell_type": "markdown",
   "id": "b62214b9",
   "metadata": {},
   "source": [
    "## Grid SearchCV for best Parameters"
   ]
  },
  {
   "cell_type": "code",
   "execution_count": 11,
   "id": "351c8b71",
   "metadata": {},
   "outputs": [
    {
     "data": {
      "text/html": [
       "<style>#sk-container-id-1 {color: black;}#sk-container-id-1 pre{padding: 0;}#sk-container-id-1 div.sk-toggleable {background-color: white;}#sk-container-id-1 label.sk-toggleable__label {cursor: pointer;display: block;width: 100%;margin-bottom: 0;padding: 0.3em;box-sizing: border-box;text-align: center;}#sk-container-id-1 label.sk-toggleable__label-arrow:before {content: \"▸\";float: left;margin-right: 0.25em;color: #696969;}#sk-container-id-1 label.sk-toggleable__label-arrow:hover:before {color: black;}#sk-container-id-1 div.sk-estimator:hover label.sk-toggleable__label-arrow:before {color: black;}#sk-container-id-1 div.sk-toggleable__content {max-height: 0;max-width: 0;overflow: hidden;text-align: left;background-color: #f0f8ff;}#sk-container-id-1 div.sk-toggleable__content pre {margin: 0.2em;color: black;border-radius: 0.25em;background-color: #f0f8ff;}#sk-container-id-1 input.sk-toggleable__control:checked~div.sk-toggleable__content {max-height: 200px;max-width: 100%;overflow: auto;}#sk-container-id-1 input.sk-toggleable__control:checked~label.sk-toggleable__label-arrow:before {content: \"▾\";}#sk-container-id-1 div.sk-estimator input.sk-toggleable__control:checked~label.sk-toggleable__label {background-color: #d4ebff;}#sk-container-id-1 div.sk-label input.sk-toggleable__control:checked~label.sk-toggleable__label {background-color: #d4ebff;}#sk-container-id-1 input.sk-hidden--visually {border: 0;clip: rect(1px 1px 1px 1px);clip: rect(1px, 1px, 1px, 1px);height: 1px;margin: -1px;overflow: hidden;padding: 0;position: absolute;width: 1px;}#sk-container-id-1 div.sk-estimator {font-family: monospace;background-color: #f0f8ff;border: 1px dotted black;border-radius: 0.25em;box-sizing: border-box;margin-bottom: 0.5em;}#sk-container-id-1 div.sk-estimator:hover {background-color: #d4ebff;}#sk-container-id-1 div.sk-parallel-item::after {content: \"\";width: 100%;border-bottom: 1px solid gray;flex-grow: 1;}#sk-container-id-1 div.sk-label:hover label.sk-toggleable__label {background-color: #d4ebff;}#sk-container-id-1 div.sk-serial::before {content: \"\";position: absolute;border-left: 1px solid gray;box-sizing: border-box;top: 0;bottom: 0;left: 50%;z-index: 0;}#sk-container-id-1 div.sk-serial {display: flex;flex-direction: column;align-items: center;background-color: white;padding-right: 0.2em;padding-left: 0.2em;position: relative;}#sk-container-id-1 div.sk-item {position: relative;z-index: 1;}#sk-container-id-1 div.sk-parallel {display: flex;align-items: stretch;justify-content: center;background-color: white;position: relative;}#sk-container-id-1 div.sk-item::before, #sk-container-id-1 div.sk-parallel-item::before {content: \"\";position: absolute;border-left: 1px solid gray;box-sizing: border-box;top: 0;bottom: 0;left: 50%;z-index: -1;}#sk-container-id-1 div.sk-parallel-item {display: flex;flex-direction: column;z-index: 1;position: relative;background-color: white;}#sk-container-id-1 div.sk-parallel-item:first-child::after {align-self: flex-end;width: 50%;}#sk-container-id-1 div.sk-parallel-item:last-child::after {align-self: flex-start;width: 50%;}#sk-container-id-1 div.sk-parallel-item:only-child::after {width: 0;}#sk-container-id-1 div.sk-dashed-wrapped {border: 1px dashed gray;margin: 0 0.4em 0.5em 0.4em;box-sizing: border-box;padding-bottom: 0.4em;background-color: white;}#sk-container-id-1 div.sk-label label {font-family: monospace;font-weight: bold;display: inline-block;line-height: 1.2em;}#sk-container-id-1 div.sk-label-container {text-align: center;}#sk-container-id-1 div.sk-container {/* jupyter's `normalize.less` sets `[hidden] { display: none; }` but bootstrap.min.css set `[hidden] { display: none !important; }` so we also need the `!important` here to be able to override the default hidden behavior on the sphinx rendered scikit-learn.org. See: https://github.com/scikit-learn/scikit-learn/issues/21755 */display: inline-block !important;position: relative;}#sk-container-id-1 div.sk-text-repr-fallback {display: none;}</style><div id=\"sk-container-id-1\" class=\"sk-top-container\"><div class=\"sk-text-repr-fallback\"><pre>GridSearchCV(cv=5, estimator=BaggingClassifier(), n_jobs=-1,\n",
       "             param_grid={&#x27;bootstrap&#x27;: [True, False],\n",
       "                         &#x27;max_features&#x27;: [0.2, 0.4, 0.6, 1.0],\n",
       "                         &#x27;max_samples&#x27;: [0.2, 0.4, 0.6, 1.0],\n",
       "                         &#x27;n_estimators&#x27;: [100, 200, 400]})</pre><b>In a Jupyter environment, please rerun this cell to show the HTML representation or trust the notebook. <br />On GitHub, the HTML representation is unable to render, please try loading this page with nbviewer.org.</b></div><div class=\"sk-container\" hidden><div class=\"sk-item sk-dashed-wrapped\"><div class=\"sk-label-container\"><div class=\"sk-label sk-toggleable\"><input class=\"sk-toggleable__control sk-hidden--visually\" id=\"sk-estimator-id-1\" type=\"checkbox\" ><label for=\"sk-estimator-id-1\" class=\"sk-toggleable__label sk-toggleable__label-arrow\">GridSearchCV</label><div class=\"sk-toggleable__content\"><pre>GridSearchCV(cv=5, estimator=BaggingClassifier(), n_jobs=-1,\n",
       "             param_grid={&#x27;bootstrap&#x27;: [True, False],\n",
       "                         &#x27;max_features&#x27;: [0.2, 0.4, 0.6, 1.0],\n",
       "                         &#x27;max_samples&#x27;: [0.2, 0.4, 0.6, 1.0],\n",
       "                         &#x27;n_estimators&#x27;: [100, 200, 400]})</pre></div></div></div><div class=\"sk-parallel\"><div class=\"sk-parallel-item\"><div class=\"sk-item\"><div class=\"sk-label-container\"><div class=\"sk-label sk-toggleable\"><input class=\"sk-toggleable__control sk-hidden--visually\" id=\"sk-estimator-id-2\" type=\"checkbox\" ><label for=\"sk-estimator-id-2\" class=\"sk-toggleable__label sk-toggleable__label-arrow\">estimator: BaggingClassifier</label><div class=\"sk-toggleable__content\"><pre>BaggingClassifier()</pre></div></div></div><div class=\"sk-serial\"><div class=\"sk-item\"><div class=\"sk-estimator sk-toggleable\"><input class=\"sk-toggleable__control sk-hidden--visually\" id=\"sk-estimator-id-3\" type=\"checkbox\" ><label for=\"sk-estimator-id-3\" class=\"sk-toggleable__label sk-toggleable__label-arrow\">BaggingClassifier</label><div class=\"sk-toggleable__content\"><pre>BaggingClassifier()</pre></div></div></div></div></div></div></div></div></div></div>"
      ],
      "text/plain": [
       "GridSearchCV(cv=5, estimator=BaggingClassifier(), n_jobs=-1,\n",
       "             param_grid={'bootstrap': [True, False],\n",
       "                         'max_features': [0.2, 0.4, 0.6, 1.0],\n",
       "                         'max_samples': [0.2, 0.4, 0.6, 1.0],\n",
       "                         'n_estimators': [100, 200, 400]})"
      ]
     },
     "execution_count": 11,
     "metadata": {},
     "output_type": "execute_result"
    }
   ],
   "source": [
    "from sklearn.model_selection import GridSearchCV\n",
    "\n",
    "param_dict = {\n",
    "    'n_estimators': [100,200,400],\n",
    "    'max_samples': [0.2,0.4,0.6,1.0],\n",
    "    'max_features': [0.2,0.4,0.6,1.0],\n",
    "    'bootstrap': [True,False]\n",
    "}\n",
    "\n",
    "grid = GridSearchCV(BaggingClassifier(),param_dict,cv = 5,n_jobs = -1)\n",
    "\n",
    "grid.fit(X_train,y_train)"
   ]
  },
  {
   "cell_type": "code",
   "execution_count": 12,
   "id": "58014bbc",
   "metadata": {},
   "outputs": [
    {
     "data": {
      "text/plain": [
       "{'bootstrap': True,\n",
       " 'max_features': 1.0,\n",
       " 'max_samples': 1.0,\n",
       " 'n_estimators': 400}"
      ]
     },
     "execution_count": 12,
     "metadata": {},
     "output_type": "execute_result"
    }
   ],
   "source": [
    "grid.best_params_"
   ]
  },
  {
   "cell_type": "code",
   "execution_count": 13,
   "id": "a110cf48",
   "metadata": {},
   "outputs": [
    {
     "data": {
      "text/plain": [
       "0.9005570305320127"
      ]
     },
     "execution_count": 13,
     "metadata": {},
     "output_type": "execute_result"
    }
   ],
   "source": [
    "grid.best_score_"
   ]
  },
  {
   "cell_type": "code",
   "execution_count": null,
   "id": "eca26580",
   "metadata": {},
   "outputs": [],
   "source": []
  }
 ],
 "metadata": {
  "kernelspec": {
   "display_name": "Python 3 (ipykernel)",
   "language": "python",
   "name": "python3"
  },
  "language_info": {
   "codemirror_mode": {
    "name": "ipython",
    "version": 3
   },
   "file_extension": ".py",
   "mimetype": "text/x-python",
   "name": "python",
   "nbconvert_exporter": "python",
   "pygments_lexer": "ipython3",
   "version": "3.11.4"
  }
 },
 "nbformat": 4,
 "nbformat_minor": 5
}
